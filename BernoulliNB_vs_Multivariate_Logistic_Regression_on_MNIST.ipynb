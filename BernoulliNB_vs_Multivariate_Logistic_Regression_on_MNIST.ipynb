{
 "cells": [
  {
   "cell_type": "markdown",
   "metadata": {
    "colab_type": "text",
    "id": "zD4fRb3dGRaO"
   },
   "source": [
    "# Main Goals\n",
    "\n",
    "We will explore how hard it is to find the best balance between the True Positive Rate TPR and the Fasle Positive Rate FPR. \n",
    "\n",
    "We will then turn to applying multi-class classifiers over the well known MNIST digits database, and analyse the results using a confusion matrix."
   ]
  },
  {
   "cell_type": "code",
   "execution_count": 9,
   "metadata": {
    "ExecuteTime": {
     "end_time": "2020-10-02T13:17:33.896754Z",
     "start_time": "2020-10-02T13:17:33.885180Z"
    }
   },
   "outputs": [],
   "source": [
    "import matplotlib.pyplot as plt\n",
    "import seaborn as sns\n",
    "import pandas as pd\n",
    "import numpy as np\n",
    "from sklearn.datasets import load_digits\n",
    "from sklearn.model_selection import train_test_split\n",
    "from sklearn.naive_bayes import BernoulliNB\n",
    "from sklearn.metrics import confusion_matrix, classification_report\n",
    "from sklearn.utils.multiclass import unique_labels\n",
    "from sklearn.linear_model import LogisticRegression"
   ]
  },
  {
   "cell_type": "markdown",
   "metadata": {
    "colab_type": "text",
    "id": "i2p-7eGqNjrp"
   },
   "source": [
    "# Balancing TPR and FPR and interpretability of a classifier results given inbalance between classes\n",
    "\n",
    "After your yearly checkup, the doctor has bad news and good news. The bad news is that you tested positive for a serious disease, and that the test is 99% accurate (i.e. the probability of testing positive given that you have the disease is 0.99, as is the probability of testing negative given that you don’t have the disease). The good news is that this is a rare disease, striking only 1 in 10,000 people. \n",
    "\n",
    "3 questions are interesting:\n",
    "\n",
    "1. What are the TPR and FPR of the chosen classifier in this case? Giving that there is a balance between the two --- is it a good point on the ROC curve? \n",
    "\n",
    "2. Why is it good news that the disease is rare? What are the chances that you actually have the disease?\n",
    "\n",
    "3. Taking into account the previous answers, would we say the designer of the classifier made a good choice in this case?"
   ]
  },
  {
   "cell_type": "markdown",
   "metadata": {
    "colab_type": "text",
    "id": "cluKn7Rb2LDB"
   },
   "source": [
    "## Answer 1\n",
    "From the instructions, we define the following events:\n",
    "1. S: Sick\n",
    "2. H: Healthy\n",
    "3. Tp : Test positif\n",
    "4. Tn : Test negatif\n",
    "\n",
    "And the followings probabilitites\n",
    "1. P(Tp|S) = 0.99\n",
    "2. P(Tn|H) = 0.99\n",
    "3. P(S) = 0.0001\n",
    "4. P(H) = 1-P(S) = 0.9999\n",
    "\n",
    "In this classification, we wish to predict if someone is sick or healthy according to a medical test.\n",
    "In this case we define the TPR and FPR following:\n",
    "* TPR = TP/(TP+FN) as P(Tp|S) = 0.99 (sensitivity given)\n",
    "* FPR = FP/(FP+TN) as P(Tp|H)\n",
    "\n",
    "Moreover, we can denote that the specificity is defines as:\n",
    "* TNR = TN/(TN+FP) as P(Tn|H) = 0.99 (specificity given)\n",
    "\n",
    "If the TPR and FPR are balanced, it leads to a impossible choice. In this case we wish to reduce the FPR and increase the TPR to predict the sickes among all positive tests. So the ROC curve should raise fastly."
   ]
  },
  {
   "cell_type": "markdown",
   "metadata": {
    "colab_type": "text",
    "id": "lTLwPg6q3TEg"
   },
   "source": [
    "## Answer 2\n",
    "\n",
    "Because of the disease is rare, the TPR = P(Tp|S) = P(Tp and S)/P(S) should be increase as far as the medical test is accurate.\n",
    "\n",
    "The chance to have the disease is:\n",
    "\n",
    "P(S|Tp) = P(S)P(Tp|S)/P(Tp) \n",
    "\n",
    "With \n",
    "P(Tp) = P(S)P(Tp|S) + P(H)P(Tp|H) \n",
    "\n",
    "And P(Tp|H) is the FPR, it can calculat as FPR = 1 - TNR = 1 - P(Tn|H) = 0.01\n",
    "\n",
    "So\n",
    "P(S|Tp) = 0.0098\n",
    "\n",
    "The patient has 0.98% to be sick if the test is positif."
   ]
  },
  {
   "cell_type": "markdown",
   "metadata": {
    "colab_type": "text",
    "id": "mX39tM4K3UTB"
   },
   "source": [
    "## Answer 3\n",
    "The previous result show that the test is not significant if the aim is to find sick people. However the choice of TPR and FPR permit to find each healthy people because P(H/Tn) = 99.97% and it minimize the false negatives."
   ]
  },
  {
   "cell_type": "markdown",
   "metadata": {
    "colab_type": "text",
    "id": "TQVMUZkQHlm2"
   },
   "source": [
    "# Classifying Digits\n",
    "In this part we will test digits classification on the MNIST dataset, using Bernoulli Naive Bayes (a generative model) and Multivariate Logistic Regression (a discriminative model). \n",
    "\n",
    "The MNIST dataset contains 28x28 grayscale images of handwritten digits between 0 and 9 (10 classes). For mathmatical analysis clarity, and for matching expected API, each image faltten to create a 1D array with 784 elements."
   ]
  },
  {
   "cell_type": "markdown",
   "metadata": {
    "colab_type": "text",
    "id": "Cjwjk6pzLE-y"
   },
   "source": [
    "## Loading the MNIST dataset\n",
    "\n",
    "We load the MNIST data set. The digits dataset is one of datasets scikit-learn comes with that do not require the downloading of any file from some external website. Use \n",
    "\n",
    " Each image is already transformed into a 1D integer array $x\\in [0,255]^{64}$, and the corresponding label is an integer $y\\in [0,9]$.\n",
    "\n",
    "We plot a single sample of each digit as the original image, so we get a feeling how the data looks like.\n",
    "\n",
    "Finally, we divide our data into train and test sets, using 1/7 of the data for testing.\n",
    "\n",
    "---\n",
    "**Note:** Using `digits = sklearn.datasets.load_digits()` will only fetch a very small sample of the original set, with images resized to 8x8. This preprocessing of the data reduces dimensionality and gives invariance to small distortions - however, we will use the original data in this study. Feel free to test the proformance of the algorithms below on the preprocessed data as well.\n"
   ]
  },
  {
   "cell_type": "markdown",
   "metadata": {},
   "source": [
    "### loading MINST dataset"
   ]
  },
  {
   "cell_type": "code",
   "execution_count": 13,
   "metadata": {
    "ExecuteTime": {
     "end_time": "2020-10-02T13:18:25.548899Z",
     "start_time": "2020-10-02T13:18:25.419961Z"
    }
   },
   "outputs": [],
   "source": [
    "mnist = load_digits()"
   ]
  },
  {
   "cell_type": "code",
   "execution_count": 14,
   "metadata": {
    "ExecuteTime": {
     "end_time": "2020-10-02T13:18:26.101624Z",
     "start_time": "2020-10-02T13:18:26.094855Z"
    }
   },
   "outputs": [],
   "source": [
    "X = mnist.data\n",
    "y = mnist.target"
   ]
  },
  {
   "cell_type": "markdown",
   "metadata": {},
   "source": [
    "#### plot a sample"
   ]
  },
  {
   "cell_type": "code",
   "execution_count": 19,
   "metadata": {
    "ExecuteTime": {
     "end_time": "2020-10-02T13:20:20.278150Z",
     "start_time": "2020-10-02T13:20:20.070396Z"
    }
   },
   "outputs": [
    {
     "data": {
      "text/plain": [
       "<matplotlib.image.AxesImage at 0x7f4745e29358>"
      ]
     },
     "execution_count": 19,
     "metadata": {},
     "output_type": "execute_result"
    },
    {
     "data": {
      "image/png": "[encoded data removed]",
      "text/plain": [
       "<Figure size 432x288 with 1 Axes>"
      ]
     },
     "metadata": {
      "needs_background": "light"
     },
     "output_type": "display_data"
    }
   ],
   "source": [
    "plt.imshow(X[50].reshape(8, 8), cmap='Greys')"
   ]
  },
  {
   "cell_type": "markdown",
   "metadata": {},
   "source": [
    "#### split into train and test sets"
   ]
  },
  {
   "cell_type": "code",
   "execution_count": 20,
   "metadata": {
    "ExecuteTime": {
     "end_time": "2020-10-02T13:21:59.215507Z",
     "start_time": "2020-10-02T13:21:59.204569Z"
    }
   },
   "outputs": [],
   "source": [
    "X_train, X_test, y_train, y_test = train_test_split(X, y, test_size=1/7, random_state=42)"
   ]
  },
  {
   "cell_type": "markdown",
   "metadata": {
    "colab_type": "text",
    "id": "WTGjjSKaFfE6"
   },
   "source": [
    "## Bernoulli Naive Bayes\n",
    "\n",
    "If we know how the digits are generated, then we know how to classify them (simply choose the digit class which will maximize the posterior probability) --- but which model should we use for describing the digits generation?\n",
    "\n",
    "In this part we will try a very simplified model of digits creation (which is obviously not the same as the \"real\" model), using a Naive Bayes over an underlying Bernoulli distribution --- that is, we will assume that given a digit class, the pixels of the images are the result of independent coin flips, each with its own \"head\" probability.\n",
    "\n",
    "Note that since we assume each pixel is either 0 (black) or 1 (white), we will need to adjust (preprocess) our data accrodingly (see below).\n",
    "\n",
    "So, the model is stated as follows for $$ x \\in \\{0,1\\}^{64} $$\n",
    "$$\n",
    "\\begin{cases}\n",
    "\\pi_j = \\Pr(y=j) \\\\\n",
    "P_j(x) = \\Pr(x | y=j) \\\\\n",
    "\\end{cases}\n",
    "$$\n",
    "\n",
    "Where for each $i\\in 0\\ldots 64$ it holds that\n",
    "$$\n",
    "P_{ji}(x_i) = \\Pr(x_i | y=j) =\n",
    "\\begin{cases}\n",
    "p_{ji} & \\text{if } x_i=1 \\\\\n",
    "1-p_{ji} & \\text{if } x_i=0 \\\\\n",
    "\\end{cases}\n",
    "$$\n",
    "\n",
    "We write the classification rule based on this Naive Bayes model and how we esitmate each of the parameters of the model based on the trainning data.\n",
    "We know from the Bayes Theorem that : $$ P(y=j|X) = \\frac{P(y=j)P(X|y=j)}{P(X)} $$\n",
    "We wish to determine the quantity $P(y=j|X)$ named as \"posterior\" and the naive Bayes methode implies that the term named as the \"likelihood\", $P(X|y=j)$, can be modify. In fact the assumption the naive Bayes methode is that the values of the vector $X$ are independent so:\n",
    "\n",
    "$$ P(X|y=j) = \\Pi P(x_i|y=j) $$\n",
    "\n",
    "At this part we assume that the lkelihood follows a Bermoulli law of the pramater $p_{ji}$ which can be calculated thanks to the crosstab of the train set.\n",
    "\n",
    "Moreover, the terms \"prior, $P(y=j)$, is define as an equiprobability of the integers from 0 to 9 and \"evidence\", $P(X)$ is equal to one.\n",
    "\n",
    "We obtain after calculation:\n",
    "$$ P(y=j|X) = p_{ji}^{(\\sum_{i=1}^nx_i)}(1-p_{ji})^{(n-\\sum_{i=1}^nx_i)}  ,\\quad x_1, \\cdots, x_n \\in \\lbrace 0,\\ 1\\rbrace. $$\n",
    "\n",
    "To predict the integer, we execute this calculus for each integer for the same vector and take the greatest.\n",
    "\n",
    "Remark: looking on the data, we see that the edges of each pictures is a problem because it supposed that the number of zero is greater than the number of one, the data set is unbalanced. Too much zeros brings no information, in fact if one line contains only zero she could be linked to any value of classe (equiprobability). To manage this issue we may, during the preprocessing, retrieve zeros useless.\n",
    "Algorithm suggested:\n",
    "\n",
    "For each vector of train set we count 8 by 8 elements and if the sum of them is equal to zero, means that there is only zeros in this part of 64 elements.\n",
    "We have to take care of new size of each vectors after modification. If there are not the same size whe should modify the model, precisely on how we estimate parameter of the Bernoulli parameter on the crosstab. To do that, after each modification we calculate the parameter thanks to the new number of elements.\n"
   ]
  },
  {
   "cell_type": "markdown",
   "metadata": {
    "colab_type": "text",
    "id": "nOnkgDIXTMCQ"
   },
   "source": [
    "### Run Naive Bayes Classifier\n",
    "We run a Naive Bayes classifier on the training data and apply predictions on the test data. Use the [sklearn.naive_bayes.BernoulliNB](http://scikit-learn.org/stable/modules/generated/sklearn.naive_bayes.BernoulliNB.html) implementation (see the [source code for sklearn.naive_bayes](https://github.com/scikit-learn/scikit-learn/blob/master/sklearn/naive_bayes.py) for details).\n",
    "\n",
    "Remember we need to preprocess the data in this case such that each pixel would become either black (0) or white (1). For this, we use the `binarize` parameter of the implementation. Set this value to $0$ (this is the default), which in this case would mean every pixel with non-zero value will be set to 1.\n",
    "\n",
    "1. We plot the mean image of each class (estimated $\\hat{p}_{ji}$) and generate one sample of each class (remeber, we can do this since this is a generative model). We will need to access the `feature_log_prob_` attibute of the trained model.\n",
    "\n",
    "2. We plot the confusion matrix of our classifier, as claculated on the test data (it is recommended to use [sklearn.metrics.confusion_matrix](http://scikit-learn.org/stable/modules/generated/sklearn.metrics.confusion_matrix.html)). Calculate the total accuracy (fraction of correctly classified images).\n",
    "\n",
    "3. We think of a way to find the optimal threshold of the binarization part.\n"
   ]
  },
  {
   "cell_type": "markdown",
   "metadata": {},
   "source": [
    "###  Run the Bernoulli Naive Bayes method"
   ]
  },
  {
   "cell_type": "code",
   "execution_count": 21,
   "metadata": {
    "ExecuteTime": {
     "end_time": "2020-10-02T14:01:50.404609Z",
     "start_time": "2020-10-02T14:01:50.389729Z"
    },
    "colab": {
     "autoexec": {
      "startup": false,
      "wait_interval": 0
     }
    },
    "colab_type": "code",
    "id": "XalqjRWXWS-Y"
   },
   "outputs": [],
   "source": [
    "model = BernoulliNB(binarize=0.0)\n",
    "model.fit(X_train, y_train)\n",
    "y_pred = model.predict(X_test)"
   ]
  },
  {
   "cell_type": "markdown",
   "metadata": {},
   "source": [
    "### Plot the mean image  and sample of each classes"
   ]
  },
  {
   "cell_type": "code",
   "execution_count": 24,
   "metadata": {
    "ExecuteTime": {
     "end_time": "2020-10-02T14:02:35.278011Z",
     "start_time": "2020-10-02T14:02:33.494385Z"
    },
    "scrolled": false
   },
   "outputs": [
    {
     "data": {
      "image/png": "[encoded data removed]",
      "text/plain": [
       "<Figure size 432x288 with 1 Axes>"
      ]
     },
     "metadata": {
      "needs_background": "light"
     },
     "output_type": "display_data"
    },
    {
     "data": {
      "image/png": "[encoded data removed]",
      "text/plain": [
       "<Figure size 432x288 with 1 Axes>"
      ]
     },
     "metadata": {
      "needs_background": "light"
     },
     "output_type": "display_data"
    },
    {
     "data": {
      "image/png": "[encoded data removed]",
      "text/plain": [
       "<Figure size 432x288 with 1 Axes>"
      ]
     },
     "metadata": {
      "needs_background": "light"
     },
     "output_type": "display_data"
    },
    {
     "data": {
      "image/png": "[encoded data removed]",
      "text/plain": [
       "<Figure size 432x288 with 1 Axes>"
      ]
     },
     "metadata": {
      "needs_background": "light"
     },
     "output_type": "display_data"
    },
    {
     "data": {
      "image/png": "[encoded data removed]",
      "text/plain": [
       "<Figure size 432x288 with 1 Axes>"
      ]
     },
     "metadata": {
      "needs_background": "light"
     },
     "output_type": "display_data"
    },
    {
     "data": {
      "image/png": "[encoded data removed]",
      "text/plain": [
       "<Figure size 432x288 with 1 Axes>"
      ]
     },
     "metadata": {
      "needs_background": "light"
     },
     "output_type": "display_data"
    },
    {
     "data": {
      "image/png": "[encoded data removed]",
      "text/plain": [
       "<Figure size 432x288 with 1 Axes>"
      ]
     },
     "metadata": {
      "needs_background": "light"
     },
     "output_type": "display_data"
    },
    {
     "data": {
      "image/png": "[encoded data removed]",
      "text/plain": [
       "<Figure size 432x288 with 1 Axes>"
      ]
     },
     "metadata": {
      "needs_background": "light"
     },
     "output_type": "display_data"
    },
    {
     "data": {
      "image/png": "[encoded data removed]",
      "text/plain": [
       "<Figure size 432x288 with 1 Axes>"
      ]
     },
     "metadata": {
      "needs_background": "light"
     },
     "output_type": "display_data"
    },
    {
     "data": {
      "image/png": "[encoded data removed]",
      "text/plain": [
       "<Figure size 432x288 with 1 Axes>"
      ]
     },
     "metadata": {
      "needs_background": "light"
     },
     "output_type": "display_data"
    }
   ],
   "source": [
    "for i in range(model.feature_log_prob_.shape[0]):\n",
    "    vector = model.feature_log_prob_[i]\n",
    "    plt.imshow(vector.reshape(8,8), cmap=plt.cm.gray_r, interpolation='nearest')\n",
    "    plt.title('classe: %i' % i)\n",
    "    plt.show()"
   ]
  },
  {
   "cell_type": "code",
   "execution_count": 26,
   "metadata": {
    "ExecuteTime": {
     "end_time": "2020-10-02T14:04:02.542063Z",
     "start_time": "2020-10-02T14:04:01.985314Z"
    }
   },
   "outputs": [
    {
     "data": {
      "image/png": "[encoded data removed]",
      "text/plain": [
       "<Figure size 432x288 with 10 Axes>"
      ]
     },
     "metadata": {
      "needs_background": "light"
     },
     "output_type": "display_data"
    }
   ],
   "source": [
    "images_and_labels = list(zip(X_test, y_test))\n",
    "ind = []\n",
    "for i in range(10):\n",
    "    ind.append(np.where(y_test==i)[0][0])\n",
    "\n",
    "for i in range(10):\n",
    "    plt.subplot(2, 10, i+1)\n",
    "    plt.axis('off')\n",
    "    plt.imshow(X_test[ind[i]].reshape(8, -1), cmap=plt.cm.gray_r, interpolation='nearest')\n",
    "    plt.title('Training: %i' % y_test[ind[i]])\n",
    "plt.subplots_adjust(right=3)\n",
    "plt.show()"
   ]
  },
  {
   "cell_type": "markdown",
   "metadata": {},
   "source": [
    "### Plot the Confusion Matrix"
   ]
  },
  {
   "cell_type": "code",
   "execution_count": 31,
   "metadata": {
    "ExecuteTime": {
     "end_time": "2020-10-02T14:11:45.098802Z",
     "start_time": "2020-10-02T14:11:44.237588Z"
    },
    "scrolled": false
   },
   "outputs": [
    {
     "data": {
      "image/png": "[encoded data removed]",
      "text/plain": [
       "<Figure size 504x504 with 2 Axes>"
      ]
     },
     "metadata": {
      "needs_background": "light"
     },
     "output_type": "display_data"
    }
   ],
   "source": [
    "# define confusion matrix\n",
    "cm = confusion_matrix(y_test, y_pred)\n",
    "# define name of classes\n",
    "classes = unique_labels(y_test, y_pred)\n",
    "# define the plot of the confusion matrix\n",
    "cmap = plt.cm.Blues\n",
    "fig, ax = plt.subplots(figsize=(7,7))\n",
    "im = ax.imshow(cm, interpolation='nearest', cmap=cmap)\n",
    "ax.figure.colorbar(im, ax=ax)\n",
    "ax.set(xticks=np.arange(cm.shape[1]), yticks=np.arange(cm.shape[0]),\n",
    "           xticklabels=classes, yticklabels=classes,\n",
    "           title='Confusion Matrix',\n",
    "           ylabel='True label',\n",
    "           xlabel='Predicted label')\n",
    "plt.setp(ax.get_xticklabels(), rotation=45, ha=\"right\", rotation_mode=\"anchor\")\n",
    "fmt = '.2f' \n",
    "thresh = cm.max() / 2.\n",
    "for i in range(cm.shape[0]):\n",
    "    for j in range(cm.shape[1]):\n",
    "        ax.text(j, i, format(cm[i, j], fmt), ha=\"center\", va=\"center\", color=\"white\" if cm[i, j] > thresh else \"black\")\n",
    "fig.tight_layout()\n",
    "plt.show()"
   ]
  },
  {
   "cell_type": "markdown",
   "metadata": {},
   "source": [
    "### Print the report of the classifier"
   ]
  },
  {
   "cell_type": "code",
   "execution_count": 11,
   "metadata": {},
   "outputs": [
    {
     "name": "stdout",
     "output_type": "stream",
     "text": [
      "Classification report for classifier BernoulliNB(alpha=1.0, binarize=0.0, class_prior=None, fit_prior=True):\n",
      "              precision    recall  f1-score   support\n",
      "\n",
      "         0.0       0.90      0.88      0.89       982\n",
      "         1.0       0.88      0.96      0.92      1124\n",
      "         2.0       0.87      0.83      0.85       999\n",
      "         3.0       0.75      0.80      0.78      1008\n",
      "         4.0       0.83      0.81      0.82       928\n",
      "         5.0       0.82      0.70      0.75       919\n",
      "         6.0       0.90      0.90      0.90      1032\n",
      "         7.0       0.93      0.84      0.88      1069\n",
      "         8.0       0.76      0.77      0.76       986\n",
      "         9.0       0.71      0.79      0.75       953\n",
      "\n",
      "   micro avg       0.83      0.83      0.83     10000\n",
      "   macro avg       0.83      0.83      0.83     10000\n",
      "weighted avg       0.84      0.83      0.83     10000\n",
      "\n",
      "\n"
     ]
    }
   ],
   "source": [
    "print(\"Classification report for classifier %s:\\n%s\\n\" %(model, classification_report(y_test, y_pred)))"
   ]
  },
  {
   "cell_type": "markdown",
   "metadata": {},
   "source": [
    "The total accuracy of the BernoulliNB classifier is 83% which is pretty good.\n",
    "However we see that the classes 9, 8 and 3 have a precision less than 80% and the classes 5, 8 and 9 have a recall less than 80%.\n",
    "Thats means certain predictions are mistaken for the classes 3, 5, 8 and 9."
   ]
  },
  {
   "cell_type": "markdown",
   "metadata": {},
   "source": [
    "### A way to find the best threshold"
   ]
  },
  {
   "cell_type": "markdown",
   "metadata": {},
   "source": [
    "To find the best threshold, the first idea is to run several BernoulliNB models with a different binarize attribute and choose the one with the best accuracy. Is like to perform the ROC curve."
   ]
  },
  {
   "cell_type": "markdown",
   "metadata": {
    "colab_type": "text",
    "id": "qrd3k2CXWdu3"
   },
   "source": [
    "## Multivariate Logistic Regression\n",
    "We will now look at a discriminative model for this problem, specifically, the Multivariate Logistic Regression model.\n",
    "\n",
    "In this part we will keep the pixel values in grayscale, and assume the probability of each image being classified as one of the 10 digit classes, matches some multivariate logistic function.\n",
    "\n",
    "We run a Multivariate Logitic Regression classifier on the training data and apply predictions on the test data. Use the [sklearn.linear_model.LogisticRegression](http://scikit-learn.org/stable/modules/generated/sklearn.linear_model.LogisticRegression.html) implementation, and set the `solver` to be `'lbfgs'`.\n",
    "\n",
    "1. As we did for the Naive Bayes classifier above, we plot the confusion matrix of our classifier, as claculated on the test data, and calculate the total accuracy. We summarize the results.\n",
    "\n",
    "2. We show some test images which were missclassified. Choose one such sample, and output the probability estimates for all classes (use the `predict_proba` function).\n"
   ]
  },
  {
   "cell_type": "markdown",
   "metadata": {},
   "source": [
    "### Predictions and Confusion Matrix results"
   ]
  },
  {
   "cell_type": "code",
   "execution_count": 37,
   "metadata": {
    "ExecuteTime": {
     "end_time": "2020-10-02T14:27:20.869303Z",
     "start_time": "2020-10-02T14:27:19.922490Z"
    },
    "colab": {
     "autoexec": {
      "startup": false,
      "wait_interval": 0
     }
    },
    "colab_type": "code",
    "collapsed": true,
    "id": "bNRDBGgyofrT"
   },
   "outputs": [
    {
     "name": "stderr",
     "output_type": "stream",
     "text": [
      "/home/elbaz/anaconda3/lib/python3.6/site-packages/sklearn/linear_model/_logistic.py:764: ConvergenceWarning: lbfgs failed to converge (status=1):\n",
      "STOP: TOTAL NO. of ITERATIONS REACHED LIMIT.\n",
      "\n",
      "Increase the number of iterations (max_iter) or scale the data as shown in:\n",
      "    https://scikit-learn.org/stable/modules/preprocessing.html\n",
      "Please also refer to the documentation for alternative solver options:\n",
      "    https://scikit-learn.org/stable/modules/linear_model.html#logistic-regression\n",
      "  extra_warning_msg=_LOGISTIC_SOLVER_CONVERGENCE_MSG)\n"
     ]
    }
   ],
   "source": [
    "model = LogisticRegression(solver='lbfgs', max_iter=500)\n",
    "model.fit(X_train, y_train)\n",
    "y_pred = model.predict(X_test)"
   ]
  },
  {
   "cell_type": "code",
   "execution_count": 33,
   "metadata": {
    "ExecuteTime": {
     "end_time": "2020-10-02T14:21:24.389700Z",
     "start_time": "2020-10-02T14:21:23.680904Z"
    }
   },
   "outputs": [
    {
     "data": {
      "image/png": "[encoded data removed]",
      "text/plain": [
       "<Figure size 504x504 with 2 Axes>"
      ]
     },
     "metadata": {
      "needs_background": "light"
     },
     "output_type": "display_data"
    }
   ],
   "source": [
    "# define confusion matrix\n",
    "cm = confusion_matrix(y_test, y_pred)\n",
    "# define name of classes\n",
    "classes = unique_labels(y_test, y_pred)\n",
    "# define the plot of the confusion matrix\n",
    "cmap = plt.cm.Blues\n",
    "fig, ax = plt.subplots(figsize=(7,7))\n",
    "im = ax.imshow(cm, interpolation='nearest', cmap=cmap)\n",
    "ax.figure.colorbar(im, ax=ax)\n",
    "ax.set(xticks=np.arange(cm.shape[1]), yticks=np.arange(cm.shape[0]),\n",
    "           xticklabels=classes, yticklabels=classes,\n",
    "           title='Confusion Matrix',\n",
    "           ylabel='True label',\n",
    "           xlabel='Predicted label')\n",
    "plt.setp(ax.get_xticklabels(), rotation=45, ha=\"right\", rotation_mode=\"anchor\")\n",
    "fmt = '.2f' \n",
    "thresh = cm.max() / 2.\n",
    "for i in range(cm.shape[0]):\n",
    "    for j in range(cm.shape[1]):\n",
    "        ax.text(j, i, format(cm[i, j], fmt), ha=\"center\", va=\"center\", color=\"white\" if cm[i, j] > thresh else \"black\")\n",
    "fig.tight_layout()\n",
    "plt.show()"
   ]
  },
  {
   "cell_type": "code",
   "execution_count": 38,
   "metadata": {
    "ExecuteTime": {
     "end_time": "2020-10-02T14:28:08.353139Z",
     "start_time": "2020-10-02T14:28:08.338106Z"
    },
    "scrolled": true
   },
   "outputs": [
    {
     "name": "stdout",
     "output_type": "stream",
     "text": [
      "Classification report for classifier LogisticRegression(max_iter=500):\n",
      "              precision    recall  f1-score   support\n",
      "\n",
      "           0       1.00      1.00      1.00        20\n",
      "           1       0.94      1.00      0.97        17\n",
      "           2       1.00      1.00      1.00        26\n",
      "           3       0.96      0.96      0.96        23\n",
      "           4       1.00      0.97      0.99        36\n",
      "           5       0.89      0.97      0.93        32\n",
      "           6       1.00      0.97      0.98        29\n",
      "           7       1.00      0.96      0.98        24\n",
      "           8       0.94      0.94      0.94        17\n",
      "           9       0.97      0.94      0.95        33\n",
      "\n",
      "    accuracy                           0.97       257\n",
      "   macro avg       0.97      0.97      0.97       257\n",
      "weighted avg       0.97      0.97      0.97       257\n",
      "\n",
      "\n"
     ]
    }
   ],
   "source": [
    "print(\"Classification report for classifier %s:\\n%s\\n\" %(model, classification_report(y_test, y_pred)))"
   ]
  },
  {
   "cell_type": "markdown",
   "metadata": {},
   "source": [
    "Here we got an accuracy of 97% which is more better than the BernoulliNB model. This is due to the fact that the logistic regression applies on a set of continuous features and can take the data without preprocessing.\n",
    "However we see again that the most difficult classes to predict are: 3, 5, 8 and 9."
   ]
  },
  {
   "cell_type": "markdown",
   "metadata": {},
   "source": [
    "### Missclassified image"
   ]
  },
  {
   "cell_type": "code",
   "execution_count": 39,
   "metadata": {
    "ExecuteTime": {
     "end_time": "2020-10-02T14:29:01.053595Z",
     "start_time": "2020-10-02T14:29:01.046701Z"
    }
   },
   "outputs": [
    {
     "data": {
      "text/plain": [
       "[52, 133, 149, 159, 222]"
      ]
     },
     "execution_count": 39,
     "metadata": {},
     "output_type": "execute_result"
    }
   ],
   "source": [
    "# find and choose several index of missclassified image\n",
    "ind_miss = []\n",
    "for i in range(len(y_test)):\n",
    "    if y_pred[i] != y_test[i]:\n",
    "        ind_miss.append(i)\n",
    "ind_miss = ind_miss[:5] \n",
    "ind_miss"
   ]
  },
  {
   "cell_type": "code",
   "execution_count": 41,
   "metadata": {
    "ExecuteTime": {
     "end_time": "2020-10-02T14:29:08.743821Z",
     "start_time": "2020-10-02T14:29:07.894058Z"
    },
    "scrolled": false
   },
   "outputs": [
    {
     "data": {
      "image/png": "[encoded data removed]",
      "text/plain": [
       "<Figure size 432x288 with 1 Axes>"
      ]
     },
     "metadata": {
      "needs_background": "light"
     },
     "output_type": "display_data"
    },
    {
     "data": {
      "image/png": "[encoded data removed]",
      "text/plain": [
       "<Figure size 432x288 with 1 Axes>"
      ]
     },
     "metadata": {
      "needs_background": "light"
     },
     "output_type": "display_data"
    },
    {
     "data": {
      "image/png": "[encoded data removed]",
      "text/plain": [
       "<Figure size 432x288 with 1 Axes>"
      ]
     },
     "metadata": {
      "needs_background": "light"
     },
     "output_type": "display_data"
    },
    {
     "data": {
      "image/png": "[encoded data removed]",
      "text/plain": [
       "<Figure size 432x288 with 1 Axes>"
      ]
     },
     "metadata": {
      "needs_background": "light"
     },
     "output_type": "display_data"
    },
    {
     "data": {
      "image/png": "[encoded data removed]",
      "text/plain": [
       "<Figure size 432x288 with 1 Axes>"
      ]
     },
     "metadata": {
      "needs_background": "light"
     },
     "output_type": "display_data"
    }
   ],
   "source": [
    "# plot image xith wrong prediction\n",
    "images_and_predictions = list(zip(X_test[ind_miss], y_pred[ind_miss]))\n",
    "for index, (image, prediction) in enumerate(images_and_predictions):\n",
    "    plt.imshow(image.reshape(8,-1), cmap=plt.cm.gray_r, interpolation='nearest')\n",
    "    plt.title('Prediction: %i' % prediction)\n",
    "    plt.show()"
   ]
  }
 ],
 "metadata": {
  "colab": {
   "collapsed_sections": [],
   "default_view": {},
   "name": "ex2.ipynb",
   "provenance": [],
   "version": "0.3.2",
   "views": {}
  },
  "kernelspec": {
   "display_name": "Python 3",
   "language": "python",
   "name": "python3"
  },
  "language_info": {
   "codemirror_mode": {
    "name": "ipython",
    "version": 3
   },
   "file_extension": ".py",
   "mimetype": "text/x-python",
   "name": "python",
   "nbconvert_exporter": "python",
   "pygments_lexer": "ipython3",
   "version": "3.6.10"
  },
  "latex_envs": {
   "LaTeX_envs_menu_present": true,
   "autoclose": false,
   "autocomplete": true,
   "bibliofile": "biblio.bib",
   "cite_by": "apalike",
   "current_citInitial": 1,
   "eqLabelWithNumbers": true,
   "eqNumInitial": 1,
   "hotkeys": {
    "equation": "Ctrl-E",
    "itemize": "Ctrl-I"
   },
   "labels_anchors": false,
   "latex_user_defs": false,
   "report_style_numbering": false,
   "user_envs_cfg": false
  },
  "toc": {
   "base_numbering": 1,
   "nav_menu": {},
   "number_sections": true,
   "sideBar": true,
   "skip_h1_title": false,
   "title_cell": "Table of Contents",
   "title_sidebar": "Contents",
   "toc_cell": false,
   "toc_position": {},
   "toc_section_display": true,
   "toc_window_display": true
  },
  "varInspector": {
   "cols": {
    "lenName": 16,
    "lenType": 16,
    "lenVar": 40
   },
   "kernels_config": {
    "python": {
     "delete_cmd_postfix": "",
     "delete_cmd_prefix": "del ",
     "library": "var_list.py",
     "varRefreshCmd": "print(var_dic_list())"
    },
    "r": {
     "delete_cmd_postfix": ") ",
     "delete_cmd_prefix": "rm(",
     "library": "var_list.r",
     "varRefreshCmd": "cat(var_dic_list()) "
    }
   },
   "types_to_exclude": [
    "module",
    "function",
    "builtin_function_or_method",
    "instance",
    "_Feature"
   ],
   "window_display": false
  }
 },
 "nbformat": 4,
 "nbformat_minor": 1
}
